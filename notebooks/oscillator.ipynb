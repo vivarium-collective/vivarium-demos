{
 "cells": [
  {
   "cell_type": "code",
   "id": "initial_id",
   "metadata": {
    "collapsed": true,
    "ExecuteTime": {
     "end_time": "2025-04-16T21:38:03.930489Z",
     "start_time": "2025-04-16T21:38:03.927859Z"
    }
   },
   "source": [
    "from vivarium import Vivarium\n",
    "from demos import PROCESS_DICT, TYPES_DICT"
   ],
   "outputs": [],
   "execution_count": 6
  },
  {
   "metadata": {
    "ExecuteTime": {
     "end_time": "2025-04-16T21:38:03.945775Z",
     "start_time": "2025-04-16T21:38:03.934182Z"
    }
   },
   "cell_type": "code",
   "source": "v = Vivarium(processes=PROCESS_DICT, types=TYPES_DICT)",
   "id": "1223f5d99df8f149",
   "outputs": [],
   "execution_count": 7
  },
  {
   "metadata": {
    "ExecuteTime": {
     "end_time": "2025-04-16T21:38:03.952977Z",
     "start_time": "2025-04-16T21:38:03.950424Z"
    }
   },
   "cell_type": "code",
   "source": [
    "# view the available types\n",
    "v.get_types()"
   ],
   "id": "2eabdfaab4b05a5",
   "outputs": [
    {
     "data": {
      "text/plain": [
       "['',\n",
       " 'edge',\n",
       " 'time',\n",
       " 'current*time/substance',\n",
       " 'boolean',\n",
       " 'emitter_mode',\n",
       " 'length^3*mass/current^2*time^4',\n",
       " '/substance',\n",
       " 'interval',\n",
       " 'length^2*mass/time^2',\n",
       " 'tree',\n",
       " 'mass/length*time^2',\n",
       " 'mass^0_5/length^1_5',\n",
       " 'float',\n",
       " 'length',\n",
       " 'mass/length^3',\n",
       " 'path',\n",
       " 'current',\n",
       " 'length*mass/time^2',\n",
       " 'length/time^2',\n",
       " 'length^0_5*mass^0_5',\n",
       " 'current^2*time^4/length^2*mass',\n",
       " 'current^2*time^4/length^3*mass',\n",
       " 'enum',\n",
       " '/length',\n",
       " '/time',\n",
       " 'length^2*mass/current^2*time^2',\n",
       " 'luminosity/length^2',\n",
       " 'number',\n",
       " 'integer',\n",
       " 'length^2*mass/current*time^3',\n",
       " 'printing_unit',\n",
       " 'temperature',\n",
       " 'wires',\n",
       " 'time/length',\n",
       " 'current*length^2*time',\n",
       " 'length^2/time^2',\n",
       " 'process',\n",
       " 'maybe',\n",
       " 'printing_unit/length',\n",
       " 'length^2*mass/time',\n",
       " '/temperature*time',\n",
       " 'current*length*time',\n",
       " 'length^3/mass*time^2',\n",
       " 'length^4*mass/current*time^3',\n",
       " 'length^2',\n",
       " 'substance/time',\n",
       " 'length^3',\n",
       " 'union',\n",
       " 'length^2*mass/current*time^2',\n",
       " 'mass^0_5/length^0_5*time',\n",
       " 'mass/time^2',\n",
       " 'length^2*mass/current^2*time^3',\n",
       " 'current*time^2/length^2*mass',\n",
       " 'current*time/mass',\n",
       " 'quote',\n",
       " 'mass/time^3',\n",
       " 'substance/length^3',\n",
       " 'map',\n",
       " 'tuple',\n",
       " 'mass',\n",
       " 'length*mass/current^2*time^2',\n",
       " 'mass/length',\n",
       " 'substance',\n",
       " 'string',\n",
       " 'schema',\n",
       " 'length^2*mass/time^3',\n",
       " 'length^1_5*mass^0_5/time',\n",
       " 'length^4*mass/time^3',\n",
       " 'length^2*mass/temperature*time^2',\n",
       " 'mass/current*time^2',\n",
       " 'length/time',\n",
       " 'length^1_5*mass^0_5/time^2',\n",
       " 'current^2*time^3/length^2*mass',\n",
       " 'length*temperature',\n",
       " 'list',\n",
       " 'current*length^2',\n",
       " 'length*time/mass',\n",
       " 'current*time',\n",
       " 'length^2*mass/substance*temperature*time^2',\n",
       " 'mass/length*time',\n",
       " 'step',\n",
       " 'mass/temperature^4*time^3',\n",
       " 'length^3/time',\n",
       " 'array',\n",
       " 'luminosity',\n",
       " 'length^0_5*mass^0_5/time',\n",
       " 'length/mass',\n",
       " 'any',\n",
       " '/printing_unit',\n",
       " 'time^2/length',\n",
       " 'length^2/time',\n",
       " 'length*mass/current*time^3',\n",
       " 'protocol',\n",
       " 'composite']"
      ]
     },
     "execution_count": 8,
     "metadata": {},
     "output_type": "execute_result"
    }
   ],
   "execution_count": 8
  },
  {
   "metadata": {
    "ExecuteTime": {
     "end_time": "2025-04-16T21:38:03.963426Z",
     "start_time": "2025-04-16T21:38:03.961304Z"
    }
   },
   "cell_type": "code",
   "source": [
    "# view the available processes\n",
    "v.get_processes()"
   ],
   "id": "9ccb460b6d13ad04",
   "outputs": [
    {
     "data": {
      "text/plain": [
       "['ram-emitter', 'console-emitter', 'json-emitter', 'Copasi', 'composite']"
      ]
     },
     "execution_count": 9,
     "metadata": {},
     "output_type": "execute_result"
    }
   ],
   "execution_count": 9
  },
  {
   "metadata": {
    "ExecuteTime": {
     "end_time": "2025-04-16T21:38:04.054388Z",
     "start_time": "2025-04-16T21:38:04.033609Z"
    }
   },
   "cell_type": "code",
   "source": [
    "oscillator_config = {'model_path': '../models/BIOMD0000000035_urn.xml'}\n",
    "\n",
    "v.add_process(\n",
    "    name=\"oscillator\",\n",
    "    process_id=\"Copasi\",\n",
    "    config=oscillator_config,\n",
    ")\n",
    "v.diagram(dpi='70')"
   ],
   "id": "349c9d4b4c3f2afc",
   "outputs": [
    {
     "name": "stdout",
     "output_type": "stream",
     "text": [
      "Current working directory: /Users/eranagmon/code/vivarium-demos/notebooks\n",
      "Expected full path: /Users/eranagmon/code/vivarium-demos/models/BIOMD0000000035_urn.xml\n",
      "File exists? True\n"
     ]
    },
    {
     "ename": "TypeError",
     "evalue": "Wrong number or type of arguments for overloaded function 'CDataModel_importSBML'.\n  Possible C/C++ prototypes are:\n    CDataModel::importSBML(std::string const &,CProcessReport *,bool const &,bool,bool)\n    CDataModel::importSBML(std::string const &,CProcessReport *,bool const &,bool)\n    CDataModel::importSBML(std::string const &,CProcessReport *,bool const &)\n    CDataModel::importSBML(std::string const &,CProcessReport *)\n    CDataModel::importSBML(std::string const &)\n",
     "output_type": "error",
     "traceback": [
      "\u001B[31m---------------------------------------------------------------------------\u001B[39m",
      "\u001B[31mTypeError\u001B[39m                                 Traceback (most recent call last)",
      "\u001B[32m/var/folders/vy/vr0_ytms6m95qrnk7xnh0bth0000gp/T/ipykernel_72470/44719871.py\u001B[39m in \u001B[36m?\u001B[39m\u001B[34m()\u001B[39m\n\u001B[32m      1\u001B[39m oscillator_config = {\u001B[33m'model_path'\u001B[39m: \u001B[33m'../models/BIOMD0000000035_urn.xml'\u001B[39m}\n\u001B[32m      2\u001B[39m \n\u001B[32m----> \u001B[39m\u001B[32m3\u001B[39m v.add_process(\n\u001B[32m      4\u001B[39m     name=\u001B[33m\"oscillator\"\u001B[39m,\n\u001B[32m      5\u001B[39m     process_id=\u001B[33m\"Copasi\"\u001B[39m,\n\u001B[32m      6\u001B[39m     config=oscillator_config,\n",
      "\u001B[32m~/code/vivarium-interface/vivarium/vivarium.py\u001B[39m in \u001B[36m?\u001B[39m\u001B[34m(self, name, process_id, config, inputs, outputs, path)\u001B[39m\n\u001B[32m    307\u001B[39m             }\n\u001B[32m    308\u001B[39m         }\n\u001B[32m    309\u001B[39m \n\u001B[32m    310\u001B[39m         \u001B[38;5;66;03m# nest the process in the composite at the given path\u001B[39;00m\n\u001B[32m--> \u001B[39m\u001B[32m311\u001B[39m         self.composite.merge({}, state, path)\n\u001B[32m    312\u001B[39m         self.reset_emitters()\n\u001B[32m    313\u001B[39m         self.reset_paths()\n",
      "\u001B[32m~/code/vivarium-demos/venv/lib/python3.11/site-packages/process_bigraph/composite.py\u001B[39m in \u001B[36m?\u001B[39m\u001B[34m(self, schema, state, path)\u001B[39m\n\u001B[32m    580\u001B[39m     \u001B[38;5;28;01mdef\u001B[39;00m merge(self, schema, state, path=\u001B[38;5;28;01mNone\u001B[39;00m):\n\u001B[32m    581\u001B[39m         path = path \u001B[38;5;28;01mor\u001B[39;00m []\n\u001B[32m--> \u001B[39m\u001B[32m582\u001B[39m         self.composition, self.state = self.core.merge(\n\u001B[32m    583\u001B[39m             self.composition,\n\u001B[32m    584\u001B[39m             self.state,\n\u001B[32m    585\u001B[39m             path,\n",
      "\u001B[32m~/code/vivarium-demos/venv/lib/python3.11/site-packages/bigraph_schema/type_system.py\u001B[39m in \u001B[36m?\u001B[39m\u001B[34m(self, schema, state, path, update_schema, update_state, defer)\u001B[39m\n\u001B[32m   1304\u001B[39m             update_schema,\n\u001B[32m   1305\u001B[39m             update_state,\n\u001B[32m   1306\u001B[39m             defer)\n\u001B[32m   1307\u001B[39m \n\u001B[32m-> \u001B[39m\u001B[32m1308\u001B[39m         \u001B[38;5;28;01mreturn\u001B[39;00m self.generate(top_schema, top_state)\n",
      "\u001B[32m~/code/vivarium-demos/venv/lib/python3.11/site-packages/bigraph_schema/type_system.py\u001B[39m in \u001B[36m?\u001B[39m\u001B[34m(self, schema, state)\u001B[39m\n\u001B[32m   2092\u001B[39m         merged_schema, merged_state = self.sort(\n\u001B[32m   2093\u001B[39m             schema,\n\u001B[32m   2094\u001B[39m             state)\n\u001B[32m   2095\u001B[39m \n\u001B[32m-> \u001B[39m\u001B[32m2096\u001B[39m         _, _, top_schema, top_state = self.generate_recur(\n\u001B[32m   2097\u001B[39m             merged_schema,\n\u001B[32m   2098\u001B[39m             merged_state)\n\u001B[32m   2099\u001B[39m \n",
      "\u001B[32m~/code/vivarium-demos/venv/lib/python3.11/site-packages/bigraph_schema/type_system.py\u001B[39m in \u001B[36m?\u001B[39m\u001B[34m(self, schema, state, top_schema, top_state, path)\u001B[39m\n\u001B[32m   2078\u001B[39m             found,\n\u001B[32m   2079\u001B[39m             state,\n\u001B[32m   2080\u001B[39m             'generate')\n\u001B[32m   2081\u001B[39m \n\u001B[32m-> \u001B[39m\u001B[32m2082\u001B[39m         return generate_function(\n\u001B[32m   2083\u001B[39m             self,\n\u001B[32m   2084\u001B[39m             found,\n\u001B[32m   2085\u001B[39m             state,\n",
      "\u001B[32m~/code/vivarium-demos/venv/lib/python3.11/site-packages/bigraph_schema/type_functions.py\u001B[39m in \u001B[36m?\u001B[39m\u001B[34m(core, schema, state, top_schema, top_state, path)\u001B[39m\n\u001B[32m   2022\u001B[39m                     key,\n\u001B[32m   2023\u001B[39m                     schema.get(key))\n\u001B[32m   2024\u001B[39m \n\u001B[32m   2025\u001B[39m             \u001B[38;5;28;01melse\u001B[39;00m:\n\u001B[32m-> \u001B[39m\u001B[32m2026\u001B[39m                 subschema, substate, top_schema, top_state = core.generate_recur(\n\u001B[32m   2027\u001B[39m                     schema.get(key),\n\u001B[32m   2028\u001B[39m                     state.get(key),\n\u001B[32m   2029\u001B[39m                     top_schema=top_schema,\n",
      "\u001B[32m~/code/vivarium-demos/venv/lib/python3.11/site-packages/bigraph_schema/type_system.py\u001B[39m in \u001B[36m?\u001B[39m\u001B[34m(self, schema, state, top_schema, top_state, path)\u001B[39m\n\u001B[32m   2078\u001B[39m             found,\n\u001B[32m   2079\u001B[39m             state,\n\u001B[32m   2080\u001B[39m             'generate')\n\u001B[32m   2081\u001B[39m \n\u001B[32m-> \u001B[39m\u001B[32m2082\u001B[39m         return generate_function(\n\u001B[32m   2083\u001B[39m             self,\n\u001B[32m   2084\u001B[39m             found,\n\u001B[32m   2085\u001B[39m             state,\n",
      "\u001B[32m~/code/vivarium-demos/venv/lib/python3.11/site-packages/bigraph_schema/type_functions.py\u001B[39m in \u001B[36m?\u001B[39m\u001B[34m(core, schema, state, top_schema, top_state, path)\u001B[39m\n\u001B[32m   2246\u001B[39m         top_schema=top_schema,\n\u001B[32m   2247\u001B[39m         top_state=top_state,\n\u001B[32m   2248\u001B[39m         path=path)\n\u001B[32m   2249\u001B[39m \n\u001B[32m-> \u001B[39m\u001B[32m2250\u001B[39m     deserialized_state = core.deserialize(\n\u001B[32m   2251\u001B[39m         generated_schema,\n\u001B[32m   2252\u001B[39m         generated_state)\n\u001B[32m   2253\u001B[39m \n",
      "\u001B[32m~/code/vivarium-demos/venv/lib/python3.11/site-packages/bigraph_schema/type_system.py\u001B[39m in \u001B[36m?\u001B[39m\u001B[34m(self, schema, state)\u001B[39m\n\u001B[32m   1426\u001B[39m             schema,\n\u001B[32m   1427\u001B[39m             state,\n\u001B[32m   1428\u001B[39m             'deserialize')\n\u001B[32m   1429\u001B[39m \n\u001B[32m-> \u001B[39m\u001B[32m1430\u001B[39m         deserialized = deserialize_function(\n\u001B[32m   1431\u001B[39m             schema,\n\u001B[32m   1432\u001B[39m             state,\n\u001B[32m   1433\u001B[39m             self)\n",
      "\u001B[32m~/code/vivarium-demos/venv/lib/python3.11/site-packages/process_bigraph/process_types.py\u001B[39m in \u001B[36m?\u001B[39m\u001B[34m(schema, encoded, core)\u001B[39m\n\u001B[32m    145\u001B[39m                 \u001B[33m'interval'\u001B[39m,\n\u001B[32m    146\u001B[39m                 'interval'))\n\u001B[32m    147\u001B[39m \n\u001B[32m    148\u001B[39m     \u001B[38;5;28;01mif\u001B[39;00m \u001B[38;5;28;01mnot\u001B[39;00m \u001B[33m'instance'\u001B[39m \u001B[38;5;28;01min\u001B[39;00m deserialized:\n\u001B[32m--> \u001B[39m\u001B[32m149\u001B[39m         process = instantiate(\n\u001B[32m    150\u001B[39m             config,\n\u001B[32m    151\u001B[39m             core=core)\n\u001B[32m    152\u001B[39m \n",
      "\u001B[32m~/code/vivarium-demos/demos/processes/basico.py\u001B[39m in \u001B[36m?\u001B[39m\u001B[34m(self, config, core)\u001B[39m\n\u001B[32m     54\u001B[39m         \u001B[38;5;66;03m# here = os.path.dirname(os.path.abspath(__file__))\u001B[39;00m\n\u001B[32m     55\u001B[39m         \u001B[38;5;66;03m# model_path = str(os.path.join(here, '..', *self.config['model_path'].split('/')))\u001B[39;00m\n\u001B[32m     56\u001B[39m \n\u001B[32m     57\u001B[39m         \u001B[38;5;66;03m# load the model\u001B[39;00m\n\u001B[32m---> \u001B[39m\u001B[32m58\u001B[39m         self.model = load_model(self.config[\u001B[33m'model_path'\u001B[39m])\n\u001B[32m     59\u001B[39m         self.reaction_names = get_reactions(model=self.model).index.tolist()\n\u001B[32m     60\u001B[39m         self.species_names = get_species(model=self.model).index.tolist()\n",
      "\u001B[32m~/code/vivarium-demos/venv/lib/python3.11/site-packages/basico/model_io.py\u001B[39m in \u001B[36m?\u001B[39m\u001B[34m(location, remove_user_defined_functions)\u001B[39m\n\u001B[32m    365\u001B[39m                 \u001B[38;5;28;01mpass\u001B[39;00m\n\u001B[32m    366\u001B[39m         \u001B[38;5;28;01mtry\u001B[39;00m:\n\u001B[32m    367\u001B[39m             \u001B[38;5;28;01mif\u001B[39;00m model.importSBML(location):\n\u001B[32m    368\u001B[39m                 \u001B[38;5;28;01mreturn\u001B[39;00m set_current_model(model)\n\u001B[32m--> \u001B[39m\u001B[32m369\u001B[39m         \u001B[38;5;28;01mexcept\u001B[39;00m COPASI.CCopasiException:\n\u001B[32m    370\u001B[39m             \u001B[38;5;28;01mpass\u001B[39;00m\n\u001B[32m    371\u001B[39m         \u001B[38;5;28;01mtry\u001B[39;00m:\n\u001B[32m    372\u001B[39m             \u001B[38;5;28;01mif\u001B[39;00m model.loadModel(location):\n",
      "\u001B[32m~/code/vivarium-demos/venv/lib/python3.11/site-packages/COPASI/__init__.py\u001B[39m in \u001B[36m?\u001B[39m\u001B[34m(self, fileName, pProcessReport, deleteOldData, importMiriam, importInitialValues)\u001B[39m\n\u001B[32m  18719\u001B[39m     \u001B[38;5;28;01mdef\u001B[39;00m importSBML(self, fileName, pProcessReport=\u001B[38;5;28;01mNone\u001B[39;00m, deleteOldData=\u001B[32m1\u001B[39m, importMiriam=\u001B[38;5;28;01mTrue\u001B[39;00m, importInitialValues=\u001B[38;5;28;01mFalse\u001B[39;00m):\n\u001B[32m  18720\u001B[39m         \u001B[33mr\"\"\"importSBML(CDataModel self, std::string const & fileName, CProcessReport pProcessReport=None, bool const & deleteOldData=1, bool importMiriam=True, bool importInitialValues=False) -> bool\"\"\"\u001B[39m\n\u001B[32m> \u001B[39m\u001B[32m18721\u001B[39m         \u001B[38;5;28;01mreturn\u001B[39;00m _COPASI.CDataModel_importSBML(self, fileName, pProcessReport, deleteOldData, importMiriam, importInitialValues)\n",
      "\u001B[31mTypeError\u001B[39m: Wrong number or type of arguments for overloaded function 'CDataModel_importSBML'.\n  Possible C/C++ prototypes are:\n    CDataModel::importSBML(std::string const &,CProcessReport *,bool const &,bool,bool)\n    CDataModel::importSBML(std::string const &,CProcessReport *,bool const &,bool)\n    CDataModel::importSBML(std::string const &,CProcessReport *,bool const &)\n    CDataModel::importSBML(std::string const &,CProcessReport *)\n    CDataModel::importSBML(std::string const &)\n"
     ]
    }
   ],
   "execution_count": 10
  }
 ],
 "metadata": {
  "kernelspec": {
   "display_name": "Python 3",
   "language": "python",
   "name": "python3"
  },
  "language_info": {
   "codemirror_mode": {
    "name": "ipython",
    "version": 2
   },
   "file_extension": ".py",
   "mimetype": "text/x-python",
   "name": "python",
   "nbconvert_exporter": "python",
   "pygments_lexer": "ipython2",
   "version": "2.7.6"
  }
 },
 "nbformat": 4,
 "nbformat_minor": 5
}
